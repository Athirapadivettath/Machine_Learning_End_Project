{
 "cells": [
  {
   "cell_type": "code",
   "execution_count": 1,
   "id": "bc5d3977",
   "metadata": {},
   "outputs": [],
   "source": [
    "import pandas as pd\n",
    "import numpy as np\n",
    "import matplotlib.pyplot as plt\n",
    "import seaborn as sns\n",
    "from sklearn.model_selection import train_test_split, GridSearchCV\n",
    "from sklearn.preprocessing import StandardScaler\n",
    "from sklearn.linear_model import LinearRegression\n",
    "from sklearn.tree import DecisionTreeRegressor\n",
    "from sklearn.ensemble import RandomForestRegressor, GradientBoostingRegressor\n",
    "from sklearn.svm import SVR\n",
    "from sklearn.metrics import r2_score, mean_squared_error, mean_absolute_error"
   ]
  },
  {
   "cell_type": "markdown",
   "id": "31de954c",
   "metadata": {},
   "source": [
    "# 1. Loading and Preprocessing Of Data"
   ]
  },
  {
   "cell_type": "code",
   "execution_count": 2,
   "id": "5293eeb3",
   "metadata": {},
   "outputs": [],
   "source": [
    "file_path = 'D:\\Entri Assignments\\CarPrice_Dataset.csv'\n",
    "df = pd.read_csv(file_path)"
   ]
  },
  {
   "cell_type": "code",
   "execution_count": 3,
   "id": "6383c71a",
   "metadata": {},
   "outputs": [
    {
     "name": "stdout",
     "output_type": "stream",
     "text": [
      "Initial Data Overview:\n",
      "<class 'pandas.core.frame.DataFrame'>\n",
      "RangeIndex: 205 entries, 0 to 204\n",
      "Data columns (total 26 columns):\n",
      " #   Column            Non-Null Count  Dtype  \n",
      "---  ------            --------------  -----  \n",
      " 0   car_ID            205 non-null    int64  \n",
      " 1   symboling         205 non-null    int64  \n",
      " 2   CarName           205 non-null    object \n",
      " 3   fueltype          205 non-null    object \n",
      " 4   aspiration        205 non-null    object \n",
      " 5   doornumber        205 non-null    object \n",
      " 6   carbody           205 non-null    object \n",
      " 7   drivewheel        205 non-null    object \n",
      " 8   enginelocation    205 non-null    object \n",
      " 9   wheelbase         205 non-null    float64\n",
      " 10  carlength         205 non-null    float64\n",
      " 11  carwidth          205 non-null    float64\n",
      " 12  carheight         205 non-null    float64\n",
      " 13  curbweight        205 non-null    int64  \n",
      " 14  enginetype        205 non-null    object \n",
      " 15  cylindernumber    205 non-null    object \n",
      " 16  enginesize        205 non-null    int64  \n",
      " 17  fuelsystem        205 non-null    object \n",
      " 18  boreratio         205 non-null    float64\n",
      " 19  stroke            205 non-null    float64\n",
      " 20  compressionratio  205 non-null    float64\n",
      " 21  horsepower        205 non-null    int64  \n",
      " 22  peakrpm           205 non-null    int64  \n",
      " 23  citympg           205 non-null    int64  \n",
      " 24  highwaympg        205 non-null    int64  \n",
      " 25  price             205 non-null    float64\n",
      "dtypes: float64(8), int64(8), object(10)\n",
      "memory usage: 41.8+ KB\n",
      "None\n",
      "           car_ID   symboling   wheelbase   carlength    carwidth   carheight  \\\n",
      "count  205.000000  205.000000  205.000000  205.000000  205.000000  205.000000   \n",
      "mean   103.000000    0.834146   98.756585  174.049268   65.907805   53.724878   \n",
      "std     59.322565    1.245307    6.021776   12.337289    2.145204    2.443522   \n",
      "min      1.000000   -2.000000   86.600000  141.100000   60.300000   47.800000   \n",
      "25%     52.000000    0.000000   94.500000  166.300000   64.100000   52.000000   \n",
      "50%    103.000000    1.000000   97.000000  173.200000   65.500000   54.100000   \n",
      "75%    154.000000    2.000000  102.400000  183.100000   66.900000   55.500000   \n",
      "max    205.000000    3.000000  120.900000  208.100000   72.300000   59.800000   \n",
      "\n",
      "        curbweight  enginesize   boreratio      stroke  compressionratio  \\\n",
      "count   205.000000  205.000000  205.000000  205.000000        205.000000   \n",
      "mean   2555.565854  126.907317    3.329756    3.255415         10.142537   \n",
      "std     520.680204   41.642693    0.270844    0.313597          3.972040   \n",
      "min    1488.000000   61.000000    2.540000    2.070000          7.000000   \n",
      "25%    2145.000000   97.000000    3.150000    3.110000          8.600000   \n",
      "50%    2414.000000  120.000000    3.310000    3.290000          9.000000   \n",
      "75%    2935.000000  141.000000    3.580000    3.410000          9.400000   \n",
      "max    4066.000000  326.000000    3.940000    4.170000         23.000000   \n",
      "\n",
      "       horsepower      peakrpm     citympg  highwaympg         price  \n",
      "count  205.000000   205.000000  205.000000  205.000000    205.000000  \n",
      "mean   104.117073  5125.121951   25.219512   30.751220  13276.710571  \n",
      "std     39.544167   476.985643    6.542142    6.886443   7988.852332  \n",
      "min     48.000000  4150.000000   13.000000   16.000000   5118.000000  \n",
      "25%     70.000000  4800.000000   19.000000   25.000000   7788.000000  \n",
      "50%     95.000000  5200.000000   24.000000   30.000000  10295.000000  \n",
      "75%    116.000000  5500.000000   30.000000   34.000000  16503.000000  \n",
      "max    288.000000  6600.000000   49.000000   54.000000  45400.000000  \n"
     ]
    }
   ],
   "source": [
    "print(\"Initial Data Overview:\")\n",
    "print(df.info())\n",
    "print(df.describe())\n",
    "\n"
   ]
  },
  {
   "cell_type": "markdown",
   "id": "234d9e5c",
   "metadata": {},
   "source": [
    "### Handling Missing Values"
   ]
  },
  {
   "cell_type": "code",
   "execution_count": 4,
   "id": "52747375",
   "metadata": {},
   "outputs": [],
   "source": [
    "df.dropna(inplace=True)"
   ]
  },
  {
   "cell_type": "markdown",
   "id": "b3275bd3",
   "metadata": {},
   "source": [
    "### Encoding Categorical Variables"
   ]
  },
  {
   "cell_type": "code",
   "execution_count": 5,
   "id": "230b7044",
   "metadata": {},
   "outputs": [],
   "source": [
    "df = pd.get_dummies(df, drop_first=True)"
   ]
  },
  {
   "cell_type": "markdown",
   "id": "c77583b3",
   "metadata": {},
   "source": [
    "### Splitting Data"
   ]
  },
  {
   "cell_type": "code",
   "execution_count": 6,
   "id": "c8af17ba",
   "metadata": {},
   "outputs": [],
   "source": [
    "X = df.drop(columns=['price'])  # Assuming 'price' is the target variable\n",
    "y = df['price']\n",
    "X_train, X_test, y_train, y_test = train_test_split(X, y, test_size=0.2, random_state=42)"
   ]
  },
  {
   "cell_type": "markdown",
   "id": "d847d086",
   "metadata": {},
   "source": [
    "### Feature Scaling"
   ]
  },
  {
   "cell_type": "code",
   "execution_count": 7,
   "id": "a323456d",
   "metadata": {},
   "outputs": [],
   "source": [
    "scaler = StandardScaler()\n",
    "X_train = scaler.fit_transform(X_train)\n",
    "X_test = scaler.transform(X_test)"
   ]
  },
  {
   "cell_type": "markdown",
   "id": "426281c0",
   "metadata": {},
   "source": [
    "# 2.Model Implementation"
   ]
  },
  {
   "cell_type": "code",
   "execution_count": 8,
   "id": "098ef68b",
   "metadata": {},
   "outputs": [],
   "source": [
    "models = {\n",
    "    \"Linear Regression\": LinearRegression(),\n",
    "    \"Decision Tree\": DecisionTreeRegressor(),\n",
    "    \"Random Forest\": RandomForestRegressor(),\n",
    "    \"Gradient Boosting\": GradientBoostingRegressor(),\n",
    "    \"Support Vector Regressor\": SVR()\n",
    "}\n",
    "\n",
    "results = {}\n",
    "\n",
    "for name, model in models.items():\n",
    "    model.fit(X_train, y_train)\n",
    "    y_pred = model.predict(X_test)\n",
    "    r2 = r2_score(y_test, y_pred)\n",
    "    mse = mean_squared_error(y_test, y_pred)\n",
    "    mae = mean_absolute_error(y_test, y_pred)\n",
    "    results[name] = {\"R2 Score\": r2, \"MSE\": mse, \"MAE\": mae}"
   ]
  },
  {
   "cell_type": "markdown",
   "id": "f50c6a31",
   "metadata": {},
   "source": [
    "# 3. Model Performance Comparison"
   ]
  },
  {
   "cell_type": "code",
   "execution_count": 9,
   "id": "628aa4bc",
   "metadata": {},
   "outputs": [
    {
     "name": "stdout",
     "output_type": "stream",
     "text": [
      "\n",
      "Model Performance:\n",
      "                              R2 Score           MSE           MAE\n",
      "Linear Regression        -3.179554e+21  2.510068e+29  2.386524e+14\n",
      "Decision Tree             8.844517e-01  9.121850e+06  1.981114e+03\n",
      "Random Forest             9.526045e-01  3.741588e+06  1.398783e+03\n",
      "Gradient Boosting         9.332131e-01  5.272426e+06  1.643254e+03\n",
      "Support Vector Regressor -1.017173e-01  8.697400e+07  5.705061e+03\n"
     ]
    }
   ],
   "source": [
    "results_df = pd.DataFrame(results).T\n",
    "print(\"\\nModel Performance:\")\n",
    "print(results_df)"
   ]
  },
  {
   "cell_type": "markdown",
   "id": "85a18de3",
   "metadata": {},
   "source": [
    "## Feature Importance Analysis"
   ]
  },
  {
   "cell_type": "code",
   "execution_count": 10,
   "id": "74896e85",
   "metadata": {},
   "outputs": [
    {
     "data": {
      "image/png": "[encoded data removed]",
      "text/plain": [
       "<Figure size 1000x500 with 1 Axes>"
      ]
     },
     "metadata": {},
     "output_type": "display_data"
    }
   ],
   "source": [
    "best_model = RandomForestRegressor()\n",
    "best_model.fit(X_train, y_train)\n",
    "feature_importances = pd.Series(best_model.feature_importances_, index=X.columns)\n",
    "feature_importances.sort_values(ascending=False, inplace=True)\n",
    "\n",
    "plt.figure(figsize=(10, 5))\n",
    "feature_importances[:10].plot(kind='bar')\n",
    "plt.title('Top 10 Important Features')\n",
    "plt.show()"
   ]
  },
  {
   "cell_type": "markdown",
   "id": "c4fba05d",
   "metadata": {},
   "source": [
    "## Hyperparameter Tuning for RandomForestRegressor"
   ]
  },
  {
   "cell_type": "code",
   "execution_count": 13,
   "id": "f8c43848",
   "metadata": {},
   "outputs": [
    {
     "name": "stdout",
     "output_type": "stream",
     "text": [
      "Best Parameters: {'max_depth': 10, 'min_samples_split': 10, 'n_estimators': 50}\n",
      "Best R2 Score after Tuning: 0.8766766606663746\n"
     ]
    }
   ],
   "source": [
    "param_grid = {\n",
    "    'n_estimators': [50, 100, 200],\n",
    "    'max_depth': [None, 10, 20],\n",
    "    'min_samples_split': [2, 5, 10]\n",
    "}\n",
    "\n",
    "grid_search = GridSearchCV(RandomForestRegressor(), param_grid, cv=3, scoring='r2', n_jobs=-1)\n",
    "grid_search.fit(X_train, y_train)\n",
    "\n",
    "print(\"Best Parameters:\", grid_search.best_params_)\n",
    "print(\"Best R2 Score after Tuning:\", grid_search.best_score_)\n"
   ]
  }
 ],
 "metadata": {
  "kernelspec": {
   "display_name": "Python 3 (ipykernel)",
   "language": "python",
   "name": "python3"
  },
  "language_info": {
   "codemirror_mode": {
    "name": "ipython",
    "version": 3
   },
   "file_extension": ".py",
   "mimetype": "text/x-python",
   "name": "python",
   "nbconvert_exporter": "python",
   "pygments_lexer": "ipython3",
   "version": "3.11.3"
  }
 },
 "nbformat": 4,
 "nbformat_minor": 5
}
